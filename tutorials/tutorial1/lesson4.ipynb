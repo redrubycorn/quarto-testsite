{
 "cells": [
  {
   "attachments": {},
   "cell_type": "markdown",
   "metadata": {},
   "source": [
    "---\n",
    "title: \"Lesson 4\"\n",
    "date: \"May 22nd, 2022\"\n",
    "format:\n",
    "  html:\n",
    "    code-fold: False\n",
    "    page-layout: \"full\"\n",
    "---"
   ]
  },
  {
   "attachments": {},
   "cell_type": "markdown",
   "metadata": {},
   "source": [
    "# This is a test\n",
    "This is just some test for Jupyter Notebooks. "
   ]
  },
  {
   "cell_type": "code",
   "execution_count": 1,
   "metadata": {},
   "outputs": [
    {
     "data": {
      "text/plain": [
       "4"
      ]
     },
     "execution_count": 1,
     "metadata": {},
     "output_type": "execute_result"
    }
   ],
   "source": [
    "2 + 2"
   ]
  },
  {
   "attachments": {},
   "cell_type": "markdown",
   "metadata": {},
   "source": [
    ":::: {.columns}\n",
    "\n",
    "::: {.column width=\"40%\"}\n",
    "Lorem ipsum dolor sit amet, consectetur adipiscing elit. Sed lacus nisi, dapibus eu tincidunt accumsan, ullamcorper quis augue. Quisque consequat ultrices ligula quis cursus. Phasellus vel eros velit. Duis ut ante velit. Morbi eget elit ipsum. Curabitur venenatis sem ut pretium blandit.\n",
    ":::\n",
    "\n",
    "::: {.column width=\"60%\"}\n",
    "Lorem ipsum dolor sit amet, consectetur adipiscing elit. Sed lacus nisi, dapibus eu tincidunt accumsan, ullamcorper quis augue. Quisque consequat ultrices ligula quis cursus. Phasellus vel eros velit. Duis ut ante velit. Morbi eget elit ipsum. Curabitur venenatis sem ut pretium blandit. Nunc id tellus placerat, pulvinar risus eget, dictum nisi. Aenean vel cursus velit. Fusce id libero mollis ligula consectetur ultricies nec sit amet tellus. Vivamus posuere lacus sit amet dolor cursus, sed rhoncus ex varius. Pellentesque metus quam, faucibus ut odio nec, convallis aliquet nibh. Ut rhoncus eleifend euismod. Nunc porttitor, ligula non sagittis dapibus, purus turpis hendrerit mauris, eu lacinia eros sem sed metus. Quisque consectetur imperdiet purus ut sodales. Sed at ligula magna.\n",
    ":::\n",
    "\n",
    "::::"
   ]
  }
 ],
 "metadata": {
  "kernelspec": {
   "display_name": "Python 3",
   "language": "python",
   "name": "python3"
  },
  "language_info": {
   "codemirror_mode": {
    "name": "ipython",
    "version": 3
   },
   "file_extension": ".py",
   "mimetype": "text/x-python",
   "name": "python",
   "nbconvert_exporter": "python",
   "pygments_lexer": "ipython3",
   "version": "3.11.0"
  },
  "orig_nbformat": 4,
  "vscode": {
   "interpreter": {
    "hash": "c261aea317cc0286b3b3261fbba9abdec21eaa57589985bb7a274bf54d6cc0a7"
   }
  }
 },
 "nbformat": 4,
 "nbformat_minor": 2
}
